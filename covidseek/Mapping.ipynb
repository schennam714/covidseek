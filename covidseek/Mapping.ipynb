{
 "cells": [
  {
   "cell_type": "code",
   "execution_count": 1,
   "metadata": {},
   "outputs": [
    {
     "output_type": "display_data",
     "data": {
      "text/plain": "Figure(layout=FigureLayout(height='420px'))",
      "application/vnd.jupyter.widget-view+json": {
       "version_major": 2,
       "version_minor": 0,
       "model_id": "68d8e6fe2d1f441cadfbcd5e3860de54"
      }
     },
     "metadata": {}
    }
   ],
   "source": [
    "import gmaps\n",
    "import pandas as pd \n",
    "from ipywidgets.embed import embed_minimal_html\n",
    "\n",
    "f = open(\"apikey.txt\", \"r\")\n",
    "key = f.readline()\n",
    "\n",
    "gmaps.configure(api_key=key)\n",
    "corona_df = pd.read_csv(\"/Users/shreyas/Desktop/Web Dev/COVIDTrack/final_data.csv\")\n",
    "coords = (38.9085, -77.2405)\n",
    "fig = gmaps.figure(center=coords, zoom_level=12)\n",
    "heatmap_layer = gmaps.heatmap_layer(corona_df[['Lat', 'Long']], weights=corona_df['cases'], max_intensity=30, point_radius=3.0)\n",
    "\n",
    "figure_layout = {\n",
    "    'width': '100%',\n",
    "    'height': '100%',\n",
    "    'border': '1px solid black',\n",
    "    'padding': '2px'\n",
    "}\n",
    "fig.add_layer(heatmap_layer)\n",
    "fig"
   ]
  },
  {
   "cell_type": "code",
   "execution_count": null,
   "metadata": {},
   "outputs": [],
   "source": []
  },
  {
   "cell_type": "code",
   "execution_count": null,
   "metadata": {},
   "outputs": [],
   "source": []
  }
 ],
 "metadata": {
  "kernelspec": {
   "display_name": "Python 3",
   "language": "python",
   "name": "python3"
  },
  "language_info": {
   "codemirror_mode": {
    "name": "ipython",
    "version": 3
   },
   "file_extension": ".py",
   "mimetype": "text/x-python",
   "name": "python",
   "nbconvert_exporter": "python",
   "pygments_lexer": "ipython3",
   "version": "3.7.4-final"
  }
 },
 "nbformat": 4,
 "nbformat_minor": 4
}